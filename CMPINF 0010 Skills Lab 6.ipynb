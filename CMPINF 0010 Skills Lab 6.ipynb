def is_prime(n): #for determining if the input number is prime
    if n <= 1:
        return False
    for i in range(2, int(n**0.5) + 1):
        if n % i == 0:
            return False
    return True

def find_factors(n): #for finding factors of the input number
    factors = []
    for i in range(1, n + 1):
        if n % i == 0:
            factors.append(i)
    return factors
    
def find_next_prime(n): #for finding next prime after the input number
    next_prime = n + 1
    while not is_prime(next_prime):
        next_prime += 1
    return next_prime    

name = input("Enter your name: ")

fav_number = input("Enter your favorite number: ")

next_prime = find_next_prime(int(fav_number))
try:
    fav_number = int(fav_number)
    if is_prime(fav_number):
        print(f"Hi {name}, your favorite number {fav_number} is a prime number!")
    else:
        factors = find_factors(fav_number)
        print(f"Hi {name}, your favorite number {fav_number} is not a prime number.")
except ValueError:
    print("Invalid number. Please try again.")

try:
    next_prime = (fav_number) + 1
    while not is_prime(next_prime):
        next_prime += 1   
except ValueError:
    print("Invalid number. Try again please.")
    
print("The next prime number after "+str(fav_number)+" is "+str(next_prime)+"!")
