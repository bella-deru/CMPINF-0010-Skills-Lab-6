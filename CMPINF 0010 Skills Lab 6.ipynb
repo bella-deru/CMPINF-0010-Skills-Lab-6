{
 "cells": [
  {
   "cell_type": "code",
   "execution_count": 6,
   "id": "4533b585-ece3-4a92-91a9-f195ccb6e957",
   "metadata": {},
   "outputs": [
    {
     "name": "stdin",
     "output_type": "stream",
     "text": [
      "Enter your name:  Bella\n",
      "Enter your favorite number:  7\n"
     ]
    },
    {
     "name": "stdout",
     "output_type": "stream",
     "text": [
      "Hi Bella, your favorite number 7 is a prime number!\n"
     ]
    }
   ],
   "source": [
    "def is_prime(n):\n",
    "    if n <= 1:\n",
    "        return False\n",
    "    for i in range(2, int(n**0.5) + 1):\n",
    "        if n % i == 0:\n",
    "            return False\n",
    "    return True\n",
    "\n",
    "def find_factors(n):\n",
    "    factors = []\n",
    "    for i in range(1, n + 1):\n",
    "        if n % i == 0:\n",
    "            factors.append(i)\n",
    "    return factors\n",
    "\n",
    "# Gets user's name\n",
    "name = input(\"Enter your name: \")\n",
    "\n",
    "# Gets favorite number from the user\n",
    "fav_number = input(\"Enter your favorite number: \")\n",
    "\n",
    "try:\n",
    "    fav_number = int(fav_number)\n",
    "    if is_prime(fav_number):\n",
    "        print(f\"Hi {name}, your favorite number {fav_number} is a prime number!\")\n",
    "    else:\n",
    "        factors = find_factors(fav_number)\n",
    "        print(f\"Hi {name}, your favorite number {fav_number} is not a prime number.\")\n",
    "except ValueError:\n",
    "    print(\"Invalid number. Please try again.\")"
   ]
  },
  {
   "cell_type": "code",
   "execution_count": null,
   "id": "dc1b1f58-8b21-4d89-b595-7f9f034734d9",
   "metadata": {},
   "outputs": [],
   "source": []
  }
 ],
 "metadata": {
  "kernelspec": {
   "display_name": "Python 3 (ipykernel)",
   "language": "python",
   "name": "python3"
  },
  "language_info": {
   "codemirror_mode": {
    "name": "ipython",
    "version": 3
   },
   "file_extension": ".py",
   "mimetype": "text/x-python",
   "name": "python",
   "nbconvert_exporter": "python",
   "pygments_lexer": "ipython3",
   "version": "3.12.4"
  }
 },
 "nbformat": 4,
 "nbformat_minor": 5
}
