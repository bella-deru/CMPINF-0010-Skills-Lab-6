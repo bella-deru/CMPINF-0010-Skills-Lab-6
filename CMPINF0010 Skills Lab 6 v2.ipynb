{
 "cells": [
  {
   "cell_type": "code",
   "execution_count": 46,
   "id": "a4bc8304-f157-40b7-8df7-3c6665def857",
   "metadata": {},
   "outputs": [
    {
     "name": "stdin",
     "output_type": "stream",
     "text": [
      "Enter your name:  l\n",
      "Enter your favorite number:  16\n"
     ]
    },
    {
     "name": "stdout",
     "output_type": "stream",
     "text": [
      "Hi l, your favorite number 16 is not a prime number.\n",
      "The next prime number after 16 is 17!\n"
     ]
    }
   ],
   "source": [
    "def is_prime(n): #for determining if the input number is prime\n",
    "    if n <= 1:\n",
    "        return False\n",
    "    for i in range(2, int(n**0.5) + 1):\n",
    "        if n % i == 0:\n",
    "            return False\n",
    "    return True\n",
    "\n",
    "def find_factors(n): #for finding factors of the input number\n",
    "    factors = []\n",
    "    for i in range(1, n + 1):\n",
    "        if n % i == 0:\n",
    "            factors.append(i)\n",
    "    return factors\n",
    "    \n",
    "def find_next_prime(n): #for finding next prime after the input number\n",
    "    next_prime = n + 1\n",
    "    while not is_prime(next_prime):\n",
    "        next_prime += 1\n",
    "    return next_prime    \n",
    "\n",
    "name = input(\"Enter your name: \")\n",
    "\n",
    "fav_number = input(\"Enter your favorite number: \")\n",
    "\n",
    "next_prime = find_next_prime(int(fav_number))\n",
    "try:\n",
    "    fav_number = int(fav_number)\n",
    "    if is_prime(fav_number):\n",
    "        print(f\"Hi {name}, your favorite number {fav_number} is a prime number!\")\n",
    "    else:\n",
    "        factors = find_factors(fav_number)\n",
    "        print(f\"Hi {name}, your favorite number {fav_number} is not a prime number.\")\n",
    "except ValueError:\n",
    "    print(\"Invalid number. Please try again.\")\n",
    "\n",
    "try:\n",
    "    next_prime = (fav_number) + 1\n",
    "    while not is_prime(next_prime):\n",
    "        next_prime += 1   \n",
    "except ValueError:\n",
    "    print(\"Invalid number. Try again please.\")\n",
    "    \n",
    "print(\"The next prime number after \"+str(fav_number)+\" is \"+str(next_prime)+\"!\")"
   ]
  }
 ],
 "metadata": {
  "kernelspec": {
   "display_name": "Python 3 (ipykernel)",
   "language": "python",
   "name": "python3"
  },
  "language_info": {
   "codemirror_mode": {
    "name": "ipython",
    "version": 3
   },
   "file_extension": ".py",
   "mimetype": "text/x-python",
   "name": "python",
   "nbconvert_exporter": "python",
   "pygments_lexer": "ipython3",
   "version": "3.12.4"
  }
 },
 "nbformat": 4,
 "nbformat_minor": 5
}
